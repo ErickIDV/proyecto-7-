{
 "cells": [
  {
   "cell_type": "markdown",
   "id": "ba981773",
   "metadata": {},
   "source": [
    "# Sprint 7 "
   ]
  },
  {
   "cell_type": "markdown",
   "id": "8256a859",
   "metadata": {},
   "source": [
    "## Introduction \n",
    "- Analisis sobre un CSV sobre un DF sobre una app de venta de carros \n"
   ]
  },
  {
   "cell_type": "code",
   "execution_count": 1,
   "id": "ed18b1d0",
   "metadata": {},
   "outputs": [],
   "source": [
    "#Carga de librerias\n",
    "import pandas as pd\n",
    "import plotly.express as px\n",
    "import streamlit as st\n"
   ]
  },
  {
   "cell_type": "code",
   "execution_count": 4,
   "id": "8a86304a",
   "metadata": {},
   "outputs": [],
   "source": [
    "#carga de datos\n",
    "car_data = pd.read_csv('../vehicles_us.csv') # leer los datos"
   ]
  },
  {
   "cell_type": "code",
   "execution_count": null,
   "id": "70476dc0",
   "metadata": {},
   "outputs": [],
   "source": [
    "# Crear encabezado\n",
    "st.header('Análisis de datos de vehículos en venta')\n",
    "\n",
    "# Botón para construir histograma\n",
    "hist_button = st.button('Construir histograma')\n",
    "\n",
    "if hist_button:\n",
    "    st.write('Creación de un histograma para el conjunto de datos de anuncios de venta de coches')\n",
    "    fig = px.histogram(car_data, x=\"odometer\")\n",
    "    st.plotly_chart(fig, use_container_width=True)\n",
    "\n",
    "# Botón para construir gráfico de dispersión\n",
    "scatter_button = st.button('Construir gráfico de dispersión')\n",
    "\n",
    "if scatter_button:\n",
    "    st.write('Creación de un gráfico de dispersión para el conjunto de datos de anuncios de venta de coches')\n",
    "    fig = px.scatter(car_data, x=\"price\", y=\"odometer\", color=\"condition\")\n",
    "    st.plotly_chart(fig, use_container_width=True)"
   ]
  }
 ],
 "metadata": {
  "kernelspec": {
   "display_name": "Python 3",
   "language": "python",
   "name": "python3"
  },
  "language_info": {
   "codemirror_mode": {
    "name": "ipython",
    "version": 3
   },
   "file_extension": ".py",
   "mimetype": "text/x-python",
   "name": "python",
   "nbconvert_exporter": "python",
   "pygments_lexer": "ipython3",
   "version": "3.13.0"
  }
 },
 "nbformat": 4,
 "nbformat_minor": 5
}
